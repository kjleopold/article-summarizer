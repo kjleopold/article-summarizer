{
 "cells": [
  {
   "cell_type": "markdown",
   "metadata": {},
   "source": [
    "# Web Mining and Applied NLP (44-620)\n",
    "\n",
    "## Final Project: Article Summarizer\n",
    "\n",
    "### Student Name: Kellie Leopold [GitHub Link](https://github.com/kjleopold/article-summarizer)\n",
    "\n",
    "Perform the tasks described in the Markdown cells below.  When you have completed the assignment make sure your code cells have all been run (and have output beneath them) and ensure you have committed and pushed ALL of your changes to your assignment repository.\n",
    "\n",
    "You should bring in code from previous assignments to help you answer the questions below.\n",
    "\n",
    "Every question that requires you to write code will have a code cell underneath it; you may either write your entire solution in that cell or write it in a python file (`.py`), then import and run the appropriate code to answer the question."
   ]
  },
  {
   "cell_type": "code",
   "execution_count": 1,
   "metadata": {},
   "outputs": [],
   "source": [
    "import json\n",
    "import pathlib\n",
    "import pickle\n",
    "from collections import Counter\n",
    "import numpy as np\n",
    "\n",
    "import requests\n",
    "from bs4 import BeautifulSoup\n",
    "import matplotlib.pyplot as plt\n",
    "import spacy\n",
    "from spacy.tokens import Doc\n",
    "from spacytextblob.spacytextblob import SpacyTextBlob\n",
    "import spotipy\n",
    "import lyricsgenius\n",
    "import random\n",
    "from langdetect import detect, LangDetectException\n",
    "import os\n",
    "import re\n",
    "\n",
    "nlp = spacy.load(\"en_core_web_sm\")\n",
    "nlp.add_pipe(\"spacytextblob\")\n",
    "\n",
    "if not Doc.has_extension(\"polarity\"):  \n",
    "    Doc.set_extension(\"polarity\", getter=lambda doc: doc._.blob.sentiment.polarity)  \n",
    "  \n",
    "if not Doc.has_extension(\"subjectivity\"):  \n",
    "    Doc.set_extension(\"subjectivity\", getter=lambda doc: doc._.blob.sentiment.subjectivity)  \n",
    "  \n",
    "if not Doc.has_extension(\"assessments\"):  \n",
    "    Doc.set_extension(\"assessments\", getter=lambda doc: doc._.blob.sentiment_assessments.assessments)"
   ]
  },
  {
   "cell_type": "markdown",
   "metadata": {},
   "source": [
    "#### 1. Find on the internet an article or blog post about a topic that interests you and you are able to get the text for using the technologies we have applied in the course.  Get the html for the article and store it in a file (which you must submit with your project)"
   ]
  },
  {
   "cell_type": "code",
   "execution_count": 2,
   "metadata": {},
   "outputs": [
    {
     "name": "stdout",
     "output_type": "stream",
     "text": [
      "Tracks saved to top_hits_2025.json\n"
     ]
    }
   ],
   "source": [
    "from get_spotify_token import get_token\n",
    "\n",
    "# Get access token\n",
    "ACCESS_TOKEN = get_token()\n",
    "\n",
    "# Playlist ID\n",
    "playlist_id = \"774kUuKDzLa8ieaSmi8IfS\"\n",
    "\n",
    "# Headers\n",
    "headers = {\n",
    "    \"Authorization\": f\"Bearer {ACCESS_TOKEN}\"\n",
    "}\n",
    "\n",
    "# Endpoint\n",
    "tracks_url = f\"https://api.spotify.com/v1/playlists/{playlist_id}/tracks\"\n",
    "\n",
    "# Authenticated request\n",
    "response = requests.get(tracks_url, headers=headers)\n",
    "\n",
    "# Check if it worked\n",
    "if response.status_code != 200:\n",
    "    print(\"Error:\", response.status_code, response.json())\n",
    "else:\n",
    "    result = response.json()\n",
    "\n",
    "    # Save to file\n",
    "    with open('top_hits_2025.json', 'w', encoding='utf-8') as f:\n",
    "        json.dump(result, f, ensure_ascii=False, indent=4)\n",
    "\n",
    "    print(\"Tracks saved to top_hits_2025.json\")\n"
   ]
  },
  {
   "cell_type": "code",
   "execution_count": 3,
   "metadata": {},
   "outputs": [
    {
     "name": "stdout",
     "output_type": "stream",
     "text": [
      "1. Espresso by Sabrina Carpenter\n",
      "2. Die With A Smile by Lady Gaga, Bruno Mars\n",
      "3. BIRDS OF A FEATHER by Billie Eilish\n",
      "4. Not Like Us by Kendrick Lamar\n",
      "5. Beautiful Things by Benson Boone\n",
      "6. we can't be friends (wait for your love) by Ariana Grande\n",
      "7. Good Luck, Babe! by Chappell Roan\n",
      "8. Please Please Please by Sabrina Carpenter\n",
      "9. End of Beginning by Djo\n",
      "10. APT. by ROSÉ, Bruno Mars\n"
     ]
    }
   ],
   "source": [
    "# Get top 10 songs\n",
    "# Load JSON file\n",
    "with open('top_hits_2025.json', 'r', encoding='utf-8') as f:\n",
    "    data = json.load(f)\n",
    "\n",
    "# Get the list of tracks\n",
    "items = data.get('items', [])\n",
    "\n",
    "# Go through the top 5 songs and print\n",
    "for i, item in enumerate(items[:10]):\n",
    "    track_info = item.get('track', {})\n",
    "    track_name = track_info.get('name', 'Unknown Track')\n",
    "    artists = [artist['name'] for artist in track_info.get('artists', [])]\n",
    "    artist_names = ', '.join(artists)\n",
    "\n",
    "    print(f\"{i+1}. {track_name} by {artist_names}\")"
   ]
  },
  {
   "cell_type": "code",
   "execution_count": 4,
   "metadata": {},
   "outputs": [
    {
     "name": "stdout",
     "output_type": "stream",
     "text": [
      "Searching for \"Beautiful Things\" by Benson Boone...\n",
      "Done.\n",
      "\n",
      " Lyrics Snippet:\n",
      "\n",
      "For a while there, it was rough\n",
      "But lately, I've been doin' better\n",
      "Than the last four cold Decembers I recall\n",
      "And I see my family every month\n",
      "I found a girl my parents love\n",
      "She'll come and stay the night, and I think I might have it all\n",
      "And I thank God every day\n",
      "For the girl He sent my way\n",
      "But I kno...\n",
      "\n",
      " Saved lyrics to 'Beautiful Things.json'\n"
     ]
    }
   ],
   "source": [
    "# Get lyrics for a random top 10 song\n",
    "from dotenv import load_dotenv\n",
    "\n",
    "# Load environment variables\n",
    "load_dotenv()\n",
    "GENIUS_API_TOKEN = os.getenv(\"GENIUS_API_TOKEN\")\n",
    "if not GENIUS_API_TOKEN:\n",
    "    raise ValueError(\"GENIUS_API_TOKEN not found in environment variables\")\n",
    "\n",
    "# Setup Genius\n",
    "genius = lyricsgenius.Genius(GENIUS_API_TOKEN, timeout=15, retries=3)\n",
    "genius.skip_non_songs = True\n",
    "genius.excluded_terms = [\"(Remix)\", \"(Live)\"]\n",
    "genius.remove_section_headers = True\n",
    "\n",
    "# Load top hits from Spotify JSON\n",
    "with open('top_hits_2025.json', 'r', encoding='utf-8') as f:\n",
    "    data = json.load(f)\n",
    "\n",
    "items = data.get('items', [])\n",
    "top_10_items = items[:10]\n",
    "\n",
    "# Choose song from top 10\n",
    "track_name = \"Beautiful Things\"\n",
    "artist_names = \"Benson Boone\"\n",
    "\n",
    "# Fetch lyrics\n",
    "try:\n",
    "    song = genius.search_song(track_name, artist_names)\n",
    "    if song and song.lyrics:\n",
    "        lyrics = song.lyrics\n",
    "    else:\n",
    "        lyrics = \"Lyrics not found.\"\n",
    "except Exception as e:\n",
    "    lyrics = f\"Error fetching lyrics: {str(e)}\"\n",
    "\n",
    "# Clean out translation/contributor lines\n",
    "lyrics_clean = re.sub(r'\\n?\\d+\\s+Contributors.*', '', lyrics)\n",
    "lyrics_clean = re.sub(r'Translations.*', '', lyrics_clean)\n",
    "\n",
    "# Print pretty snippet (first 300 characters)\n",
    "snippet_length = 300\n",
    "snippet = lyrics_clean.strip()[:snippet_length]\n",
    "if len(lyrics_clean) > snippet_length:\n",
    "    snippet += \"...\"\n",
    "\n",
    "print(\"\\n Lyrics Snippet:\\n\")\n",
    "print(snippet)\n",
    "\n",
    "# Save to JSON\n",
    "song_data = {\n",
    "    \"artist\": artist_names,\n",
    "    \"title\": track_name,\n",
    "    \"lyrics\": lyrics_clean.strip()\n",
    "}\n",
    "\n",
    "safe_title = \"\".join(c for c in track_name if c.isalnum() or c in (' ', '_')).strip()\n",
    "filename = f\"{safe_title}.json\"\n",
    "\n",
    "with open(filename, \"w\", encoding=\"utf-8\") as json_file:\n",
    "    json.dump(song_data, json_file, ensure_ascii=False, indent=2)\n",
    "\n",
    "print(f\"\\n Saved lyrics to '{filename}'\")"
   ]
  },
  {
   "cell_type": "markdown",
   "metadata": {},
   "source": [
    "#### 2. Read in your article's html source from the file you created in question 1 and do sentiment analysis on the article/post's text (use `.get_text()`).  Print the polarity score with an appropriate label.  Additionally print the number of sentences in the original article (with an appropriate label)"
   ]
  },
  {
   "cell_type": "code",
   "execution_count": 5,
   "metadata": {},
   "outputs": [
    {
     "name": "stdout",
     "output_type": "stream",
     "text": [
      "\n",
      "Sentiment Analysis for: 'Beautiful Things' by Benson Boone\n",
      "File: Beautiful Things.json\n",
      "Sentiment Polarity: 0.39 (Positive)\n",
      "Number of Sentences: 21\n"
     ]
    }
   ],
   "source": [
    "safe_title = \"\".join(c for c in track_name if c.isalnum() or c in (' ', '_')).strip()\n",
    "filename = f\"{safe_title}.json\"\n",
    "\n",
    "# Load song data from file\n",
    "with open(filename, 'r', encoding='utf-8') as f:\n",
    "    song_data = json.load(f)\n",
    "\n",
    "lyrics = song_data.get(\"lyrics\", \"\")\n",
    "song_title = song_data.get(\"title\", \"Unknown Title\")\n",
    "artist = song_data.get(\"artist\", \"Unknown Artist\")\n",
    "\n",
    "# Analyze with spaCyTextBlob\n",
    "doc = nlp(lyrics)\n",
    "polarity = doc._.polarity\n",
    "num_sentences = len(list(doc.sents))\n",
    "\n",
    "# Label sentiment\n",
    "if polarity > 0.1:\n",
    "    label = \"Positive\"\n",
    "elif polarity < -0.1:\n",
    "    label = \"Negative\"\n",
    "else:\n",
    "    label = \"Neutral\"\n",
    "\n",
    "# Print results\n",
    "print(f\"\\nSentiment Analysis for: '{song_title}' by {artist}\")\n",
    "print(f\"File: {filename}\")\n",
    "print(f\"Sentiment Polarity: {polarity:.2f} ({label})\")\n",
    "print(f\"Number of Sentences: {num_sentences}\")"
   ]
  },
  {
   "cell_type": "markdown",
   "metadata": {},
   "source": [
    "#### 3. Load the article text into a trained `spaCy` pipeline, and determine the 5 most frequent tokens (converted to lower case).  Print the common tokens with an appropriate label.  Additionally, print the tokens their frequencies (with appropriate labels)"
   ]
  },
  {
   "cell_type": "code",
   "execution_count": 6,
   "metadata": {},
   "outputs": [
    {
     "name": "stdout",
     "output_type": "stream",
     "text": [
      "\n",
      "Top 5 most frequent tokens in the lyrics:\n",
      "Token: 'oh' - Frequency: 8\n",
      "Token: 'got' - Frequency: 7\n",
      "Token: 'stay' - Frequency: 5\n",
      "Token: 'god' - Frequency: 5\n",
      "Token: 'things' - Frequency: 5\n"
     ]
    }
   ],
   "source": [
    "# Process the lyrics text\n",
    "doc = nlp(lyrics)\n",
    "\n",
    "# Extract tokens: lowercase, remove punctuation, spaces, and stop words\n",
    "tokens = [token.text.lower() for token in doc\n",
    "          if not token.is_punct and not token.is_space and not token.is_stop]\n",
    "\n",
    "# Count token frequencies\n",
    "token_freq = Counter(tokens)\n",
    "\n",
    "# Get top 5 most common tokens\n",
    "most_common_tokens = token_freq.most_common(5)\n",
    "\n",
    "print(\"\\nTop 5 most frequent tokens in the lyrics:\")\n",
    "for token, freq in most_common_tokens:\n",
    "    print(f\"Token: '{token}' - Frequency: {freq}\")"
   ]
  },
  {
   "cell_type": "markdown",
   "metadata": {},
   "source": [
    "#### 4. Load the article text into a trained `spaCy` pipeline, and determine the 5 most frequent lemmas (converted to lower case).  Print the common lemmas with an appropriate label.  Additionally, print the lemmas with their frequencies (with appropriate labels)."
   ]
  },
  {
   "cell_type": "code",
   "execution_count": 7,
   "metadata": {},
   "outputs": [
    {
     "name": "stdout",
     "output_type": "stream",
     "text": [
      "\n",
      "Top 5 most frequent lemmas in the lyrics:\n",
      "Lemma: 'oh' - Frequency: 8\n",
      "Lemma: 'get' - Frequency: 7\n",
      "Lemma: 'stay' - Frequency: 5\n",
      "Lemma: 'god' - Frequency: 5\n",
      "Lemma: 'thing' - Frequency: 5\n"
     ]
    }
   ],
   "source": [
    "# Extract lemmas: lowercase, filter out punctuation, spaces, and stop words\n",
    "lemmas = [token.lemma_.lower() for token in doc\n",
    "          if not token.is_punct and not token.is_space and not token.is_stop]\n",
    "\n",
    "# Count lemma frequencies\n",
    "lemma_freq = Counter(lemmas)\n",
    "\n",
    "# Get top 5 most common lemmas\n",
    "most_common_lemmas = lemma_freq.most_common(5)\n",
    "\n",
    "print(\"\\nTop 5 most frequent lemmas in the lyrics:\")\n",
    "for lemma, freq in most_common_lemmas:\n",
    "    print(f\"Lemma: '{lemma}' - Frequency: {freq}\")"
   ]
  },
  {
   "cell_type": "markdown",
   "metadata": {},
   "source": [
    "#### 5. Make a list containing the scores (using tokens) of every sentence in the article, and plot a histogram with appropriate titles and axis labels of the scores. From your histogram, what seems to be the most common range of scores (put the answer in a comment after your code)?"
   ]
  },
  {
   "cell_type": "code",
   "execution_count": 8,
   "metadata": {},
   "outputs": [
    {
     "data": {
      "image/png": "[encoded data removed]",
      "text/plain": [
       "<Figure size 800x500 with 1 Axes>"
      ]
     },
     "metadata": {},
     "output_type": "display_data"
    }
   ],
   "source": [
    "# Load spaCy model and add pipe\n",
    "nlp = spacy.load(\"en_core_web_sm\")\n",
    "nlp.add_pipe(\"spacytextblob\")\n",
    "\n",
    "filename = f\"{safe_title}.json\"\n",
    "\n",
    "with open(filename, 'r', encoding='utf-8') as f:\n",
    "    song_data = json.load(f)\n",
    "\n",
    "lyrics = song_data.get(\"lyrics\", \"\")\n",
    "\n",
    "# Process full lyrics\n",
    "doc = nlp(lyrics)\n",
    "\n",
    "# Get polarity scores for each sentence by processing each sentence text individually\n",
    "sentence_scores_tokens = []\n",
    "for sent in doc.sents:\n",
    "    sent_doc = nlp(sent.text)\n",
    "    sentence_scores_tokens.append(sent_doc._.polarity)\n",
    "\n",
    "# Plot histogram\n",
    "plt.figure(figsize=(8,5))\n",
    "plt.hist(sentence_scores_tokens, bins=20, color='magenta', edgecolor='black')\n",
    "plt.title(f\"Histogram of Sentence Sentiment Polarity Scores (Using Tokens) for '{song_data.get('title')}'\")\n",
    "plt.xlabel(\"Polarity Score\")\n",
    "plt.ylabel(\"Number of Sentences\")\n",
    "plt.grid(axis='y', alpha=0.75)\n",
    "plt.show()\n",
    "\n",
    "# Based on the histogram, the most common range of scores appears to be around 0 to 0.1"
   ]
  },
  {
   "cell_type": "markdown",
   "metadata": {},
   "source": [
    "#### 6. Make a list containing the scores (using lemmas) of every sentence in the article, and plot a histogram with appropriate titles and axis labels of the scores.  From your histogram, what seems to be the most common range of scores (put the answer in a comment after your code)?"
   ]
  },
  {
   "cell_type": "code",
   "execution_count": 9,
   "metadata": {},
   "outputs": [
    {
     "data": {
      "image/png": "[encoded data removed]",
      "text/plain": [
       "<Figure size 800x500 with 1 Axes>"
      ]
     },
     "metadata": {},
     "output_type": "display_data"
    }
   ],
   "source": [
    "# Load spaCy model and add TextBlob pipe\n",
    "nlp = spacy.load(\"en_core_web_sm\")\n",
    "nlp.add_pipe(\"spacytextblob\")\n",
    "\n",
    "filename = f\"{safe_title}.json\"\n",
    "\n",
    "with open(filename, 'r', encoding='utf-8') as f:\n",
    "    song_data = json.load(f)\n",
    "\n",
    "lyrics = song_data.get(\"lyrics\", \"\")\n",
    "\n",
    "# Process full lyrics\n",
    "doc = nlp(lyrics)\n",
    "\n",
    "sentence_scores_lemmas = []\n",
    "for sent in doc.sents:\n",
    "    # Extract lemmas, filtering out punctuation, spaces, stop words\n",
    "    lemmas = [token.lemma_ for token in sent\n",
    "              if not token.is_punct and not token.is_space and not token.is_stop]\n",
    "    \n",
    "    # Join lemmas into string for sentiment analysis\n",
    "    lemma_text = \" \".join(lemmas)\n",
    "    \n",
    "    # Run sentiment analysis on lemma text\n",
    "    sent_doc = nlp(lemma_text)\n",
    "    sentence_scores_lemmas.append(sent_doc._.polarity)\n",
    "\n",
    "# Plot histogram for lemma-based sentence scores\n",
    "plt.figure(figsize=(8,5))\n",
    "plt.hist(sentence_scores_lemmas, bins=20, color='teal', edgecolor='black')\n",
    "plt.title(f\"Histogram of Sentence Sentiment Polarity Scores (Using Lemmas) for '{song_data.get('title')}'\")\n",
    "plt.xlabel(\"Polarity Score\")\n",
    "plt.ylabel(\"Number of Sentences\")\n",
    "plt.grid(axis='y', alpha=0.75)\n",
    "plt.show()\n",
    "\n",
    "# Comment:\n",
    "# The histogram shows the distribution of sentiment polarity scores based on lemmas to be -0.1 to 0.0\n"
   ]
  },
  {
   "cell_type": "markdown",
   "metadata": {},
   "source": [
    "#### 7. Using the histograms from questions 5 and 6, decide a \"cutoff\" score for tokens and lemmas such that fewer than half the sentences would have a score greater than the cutoff score.  Record the scores in this Markdown cell. Feel free to change these scores as you generate your summaries.  Ideally, we're shooting for at least 6 sentences for our summary, but don't want more than 10 (these numbers are rough estimates; they depend on the length of your article).\n",
    "\n",
    "* Cutoff Score (tokens): 0.1\n",
    "* Cutoff Score (lemmas): 0.1"
   ]
  },
  {
   "cell_type": "markdown",
   "metadata": {},
   "source": [
    "#### 8. Create a summary of the article by going through every sentence in the article and adding it to an (initially) empty list if its score (based on tokens) is greater than the cutoff score you identified in question 8.  If your loop variable is named `sent`, you may find it easier to add `sent.text.strip()` to your list of sentences.  Print the summary (I would cleanly generate the summary text by `join`ing the strings in your list together with a space (`' '.join(sentence_list)`)."
   ]
  },
  {
   "cell_type": "code",
   "execution_count": 10,
   "metadata": {},
   "outputs": [
    {
     "name": "stdout",
     "output_type": "stream",
     "text": [
      "Summary:\n",
      "\n",
      "And I see my family every month\n",
      "I found a girl my parents love oh God\n",
      "Don't take\n",
      "Thеse beautiful things that I've got\n",
      "\n",
      "Please stay\n",
      "I want you, I need you, oh God\n",
      "Don't take\n",
      "These beautiful things that I've got\n",
      "\n",
      "Oh, ooh It's been a while, but I'm finding my faith\n",
      "If everything's good and it's great, why do I sit and wait 'til it's gone? and I've got love oh God\n",
      "Don't take\n",
      "These beautiful things that I've got\n",
      "\n",
      "Oh, ooh\n",
      "\n",
      "Please stay\n",
      "I want you, I need you, oh God\n",
      "I need\n",
      "These beautiful things that I've got\n"
     ]
    }
   ],
   "source": [
    "from textblob import TextBlob\n",
    "import spacy\n",
    "\n",
    "# Load spaCy model\n",
    "nlp = spacy.load(\"en_core_web_sm\")\n",
    "\n",
    "# Load the saved lyrics file\n",
    "import json\n",
    "with open(\"Beautiful Things.json\", \"r\", encoding=\"utf-8\") as f:\n",
    "    song_data = json.load(f)\n",
    "\n",
    "lyrics_text = song_data[\"lyrics\"]\n",
    "\n",
    "# Process the lyrics\n",
    "doc = nlp(lyrics_text)\n",
    "\n",
    "# Cutoff score from Q7\n",
    "cutoff_score = 0.1\n",
    "\n",
    "# Create summary list\n",
    "summary_sentences = []\n",
    "\n",
    "for sent in doc.sents:\n",
    "    polarity = TextBlob(sent.text).sentiment.polarity\n",
    "    if polarity > cutoff_score:\n",
    "        summary_sentences.append(sent.text.strip())\n",
    "\n",
    "# Create clean summary text\n",
    "summary_text = ' '.join(summary_sentences)\n",
    "\n",
    "print(\"Summary:\\n\")\n",
    "print(summary_text)"
   ]
  },
  {
   "cell_type": "markdown",
   "metadata": {},
   "source": [
    "#### 9. Print the polarity score of your summary you generated with the token scores (with an appropriate label). Additionally, print the number of sentences in the summarized article."
   ]
  },
  {
   "cell_type": "code",
   "execution_count": 11,
   "metadata": {},
   "outputs": [
    {
     "name": "stdout",
     "output_type": "stream",
     "text": [
      "Polarity score of the summary: 0.737\n",
      "Number of sentences in the summary: 8\n"
     ]
    }
   ],
   "source": [
    "# Calculate polarity score of the summary text\n",
    "summary_polarity = TextBlob(summary_text).sentiment.polarity\n",
    "\n",
    "# Count the number of sentences in the summary\n",
    "num_summary_sentences = len(summary_sentences)\n",
    "\n",
    "print(f\"Polarity score of the summary: {summary_polarity:.3f}\")\n",
    "print(f\"Number of sentences in the summary: {num_summary_sentences}\")"
   ]
  },
  {
   "cell_type": "markdown",
   "metadata": {},
   "source": [
    "#### 10. Create a summary of the article by going through every sentence in the article and adding it to an (initially) empty list if its score (based on lemmas) is greater than the cutoff score you identified in question 8.  If your loop variable is named `sent`, you may find it easier to add `sent.text.strip()` to your list of sentences.  Print the summary (I would cleanly generate the summary text by `join`ing the strings in your list together with a space (`' '.join(sentence_list)`)."
   ]
  },
  {
   "cell_type": "code",
   "execution_count": 12,
   "metadata": {},
   "outputs": [
    {
     "name": "stdout",
     "output_type": "stream",
     "text": [
      "Lemma-based Summary:\n",
      "\n",
      "And I see my family every month\n",
      "I found a girl my parents love oh God\n",
      "Don't take\n",
      "Thеse beautiful things that I've got\n",
      "\n",
      "Please stay\n",
      "I want you, I need you, oh God\n",
      "Don't take\n",
      "These beautiful things that I've got\n",
      "\n",
      "Oh, ooh It's been a while, but I'm finding my faith\n",
      "If everything's good and it's great, why do I sit and wait 'til it's gone? and I've got love oh God\n",
      "Don't take\n",
      "These beautiful things that I've got\n",
      "\n",
      "Oh, ooh\n",
      "\n",
      "Please stay\n",
      "I want you, I need you, oh God\n",
      "I need\n",
      "These beautiful things that I've got\n"
     ]
    }
   ],
   "source": [
    "# Cutoff score from Q8 (lemma-based)\n",
    "cutoff_score = 0.1\n",
    "\n",
    "summary_sentences_lemmas = []\n",
    "\n",
    "for sent in doc.sents:\n",
    "    # Create a string from lemmas of the tokens in the sentence\n",
    "    lemma_text = ' '.join([token.lemma_ for token in sent])\n",
    "    \n",
    "    # Calculate polarity based on lemma text\n",
    "    polarity = TextBlob(lemma_text).sentiment.polarity\n",
    "    \n",
    "    if polarity > cutoff_score:\n",
    "        summary_sentences_lemmas.append(sent.text.strip())\n",
    "\n",
    "# Create clean summary text from lemma-based sentence list\n",
    "summary_text_lemmas = ' '.join(summary_sentences_lemmas)\n",
    "\n",
    "print(\"Lemma-based Summary:\\n\")\n",
    "print(summary_text_lemmas)"
   ]
  },
  {
   "cell_type": "markdown",
   "metadata": {},
   "source": [
    "#### 11. Print the polarity score of your summary you generated with the lemma scores (with an appropriate label). Additionally, print the number of sentences in the summarized article."
   ]
  },
  {
   "cell_type": "code",
   "execution_count": 13,
   "metadata": {},
   "outputs": [
    {
     "name": "stdout",
     "output_type": "stream",
     "text": [
      "Polarity score of the lemma-based summary: 0.737\n",
      "Number of sentences in the lemma-based summary: 8\n"
     ]
    }
   ],
   "source": [
    "# Calculate polarity score of the lemma-based summary text\n",
    "summary_lemmas_polarity = TextBlob(summary_text_lemmas).sentiment.polarity\n",
    "\n",
    "# Count the number of sentences in the lemma-based summary\n",
    "num_summary_lemmas_sentences = len(summary_sentences_lemmas)\n",
    "\n",
    "print(f\"Polarity score of the lemma-based summary: {summary_lemmas_polarity:.3f}\")\n",
    "print(f\"Number of sentences in the lemma-based summary: {num_summary_lemmas_sentences}\")"
   ]
  },
  {
   "cell_type": "markdown",
   "metadata": {},
   "source": [
    "#### 12.  Compare your polarity scores of your summaries to the polarity scores of the initial article.  Is there a difference?  Why do you think that may or may not be?.  Answer in this Markdown cell.\n",
    "\n",
    "**Answer**: The polarity scores are exactly the same. There isn't much variation in the words and structure of song lyrics, so it would make sense that they are same."
   ]
  },
  {
   "cell_type": "markdown",
   "metadata": {},
   "source": [
    "#### 13. Based on your reading of the original article, which summary do you think is better (if there's a difference).  Why do you think this might be?\n",
    "\n",
    "**Answer**: There wasn't a difference between the two summaries for the reasons stated in question 12. Due to that fact, neither summary is better than the other."
   ]
  },
  {
   "cell_type": "code",
   "execution_count": 14,
   "metadata": {},
   "outputs": [
    {
     "name": "stderr",
     "output_type": "stream",
     "text": [
      "[NbConvertApp] Converting notebook spotify-api-lyric-analysis.ipynb to html\n",
      "[NbConvertApp] WARNING | Alternative text is missing on 2 image(s).\n",
      "[NbConvertApp] Writing 406388 bytes to spotify-api-lyric-analysis.html\n"
     ]
    }
   ],
   "source": [
    "# Export to HTML\n",
    "!jupyter nbconvert --to html spotify-api-lyric-analysis.ipynb"
   ]
  }
 ],
 "metadata": {
  "kernelspec": {
   "display_name": ".venv",
   "language": "python",
   "name": "python3"
  },
  "language_info": {
   "codemirror_mode": {
    "name": "ipython",
    "version": 3
   },
   "file_extension": ".py",
   "mimetype": "text/x-python",
   "name": "python",
   "nbconvert_exporter": "python",
   "pygments_lexer": "ipython3",
   "version": "3.12.0"
  }
 },
 "nbformat": 4,
 "nbformat_minor": 4
}
