{
 "cells": [
  {
   "cell_type": "markdown",
   "metadata": {},
   "source": [
    "# Web Mining and Applied NLP (44-620)\n",
    "\n",
    "## Final Project: Article Summarizer\n",
    "\n",
    "### Student Name: Kellie Leopold [GitHub Link](https://github.com/kjleopold/article-summarizer)\n",
    "\n",
    "Perform the tasks described in the Markdown cells below.  When you have completed the assignment make sure your code cells have all been run (and have output beneath them) and ensure you have committed and pushed ALL of your changes to your assignment repository.\n",
    "\n",
    "You should bring in code from previous assignments to help you answer the questions below.\n",
    "\n",
    "Every question that requires you to write code will have a code cell underneath it; you may either write your entire solution in that cell or write it in a python file (`.py`), then import and run the appropriate code to answer the question."
   ]
  },
  {
   "cell_type": "code",
   "execution_count": 106,
   "metadata": {},
   "outputs": [
    {
     "name": "stdout",
     "output_type": "stream",
     "text": [
      "Package                   Version\n",
      "------------------------- --------------\n",
      "annotated-types           0.7.0\n",
      "anyio                     4.10.0\n",
      "argon2-cffi               25.1.0\n",
      "argon2-cffi-bindings      25.1.0\n",
      "arrow                     1.3.0\n",
      "asttokens                 3.0.0\n",
      "async-lru                 2.0.5\n",
      "attrs                     25.3.0\n",
      "babel                     2.17.0\n",
      "beautifulsoup4            4.13.4\n",
      "bleach                    6.2.0\n",
      "blis                      1.3.0\n",
      "catalogue                 2.0.10\n",
      "certifi                   2025.8.3\n",
      "cffi                      1.17.1\n",
      "charset-normalizer        3.4.2\n",
      "click                     8.2.1\n",
      "cloudpathlib              0.21.1\n",
      "colorama                  0.4.6\n",
      "comm                      0.2.3\n",
      "confection                0.1.5\n",
      "contourpy                 1.3.3\n",
      "cycler                    0.12.1\n",
      "cymem                     2.0.11\n",
      "debugpy                   1.8.15\n",
      "decorator                 5.2.1\n",
      "defusedxml                0.7.1\n",
      "en_core_web_sm            3.8.0\n",
      "et_xmlfile                2.0.0\n",
      "executing                 2.2.0\n",
      "fastjsonschema            2.21.1\n",
      "fonttools                 4.59.0\n",
      "fqdn                      1.5.1\n",
      "h11                       0.16.0\n",
      "httpcore                  1.0.9\n",
      "httpx                     0.28.1\n",
      "idna                      3.10\n",
      "ipykernel                 6.30.1\n",
      "ipython                   9.4.0\n",
      "ipython_pygments_lexers   1.1.1\n",
      "ipywidgets                8.1.7\n",
      "isoduration               20.11.0\n",
      "jedi                      0.19.2\n",
      "Jinja2                    3.1.6\n",
      "joblib                    1.5.1\n",
      "json5                     0.12.0\n",
      "jsonpointer               3.0.0\n",
      "jsonschema                4.25.0\n",
      "jsonschema-specifications 2025.4.1\n",
      "jupyter_client            8.6.3\n",
      "jupyter_core              5.8.1\n",
      "jupyter-events            0.12.0\n",
      "jupyter-lsp               2.2.6\n",
      "jupyter_server            2.16.0\n",
      "jupyter_server_terminals  0.5.3\n",
      "jupyterlab                4.4.5\n",
      "jupyterlab_pygments       0.3.0\n",
      "jupyterlab_server         2.27.3\n",
      "jupyterlab_widgets        3.0.15\n",
      "kiwisolver                1.4.8\n",
      "langcodes                 3.5.0\n",
      "language_data             1.3.0\n",
      "lark                      1.2.2\n",
      "loguru                    0.7.3\n",
      "marisa-trie               1.2.1\n",
      "markdown-it-py            3.0.0\n",
      "MarkupSafe                3.0.2\n",
      "matplotlib                3.10.5\n",
      "matplotlib-inline         0.1.7\n",
      "mdurl                     0.1.2\n",
      "mistune                   3.1.3\n",
      "murmurhash                1.0.13\n",
      "nbclient                  0.10.2\n",
      "nbconvert                 7.16.6\n",
      "nbformat                  5.10.4\n",
      "nest-asyncio              1.6.0\n",
      "nltk                      3.9.1\n",
      "notebook_shim             0.2.4\n",
      "numpy                     2.3.2\n",
      "openpyxl                  3.1.5\n",
      "overrides                 7.7.0\n",
      "packaging                 25.0\n",
      "pandas                    2.3.1\n",
      "pandocfilters             1.5.1\n",
      "parso                     0.8.4\n",
      "pillow                    11.3.0\n",
      "pip                       25.2\n",
      "platformdirs              4.3.8\n",
      "preshed                   3.0.10\n",
      "prometheus_client         0.22.1\n",
      "prompt_toolkit            3.0.51\n",
      "psutil                    7.0.0\n",
      "pure_eval                 0.2.3\n",
      "pycparser                 2.22\n",
      "pydantic                  2.11.7\n",
      "pydantic_core             2.33.2\n",
      "Pygments                  2.19.2\n",
      "pyparsing                 3.2.3\n",
      "python-dateutil           2.9.0.post0\n",
      "python-dotenv             1.1.1\n",
      "python-json-logger        3.3.0\n",
      "pytz                      2025.2\n",
      "pywin32                   311\n",
      "pywinpty                  2.0.15\n",
      "PyYAML                    6.0.2\n",
      "pyzmq                     27.0.1\n",
      "redis                     6.2.0\n",
      "referencing               0.36.2\n",
      "regex                     2025.7.34\n",
      "requests                  2.32.4\n",
      "rfc3339-validator         0.1.4\n",
      "rfc3986-validator         0.1.1\n",
      "rfc3987-syntax            1.1.0\n",
      "rich                      14.1.0\n",
      "rpds-py                   0.26.0\n",
      "seaborn                   0.13.2\n",
      "Send2Trash                1.8.3\n",
      "setuptools                80.9.0\n",
      "shellingham               1.5.4\n",
      "six                       1.17.0\n",
      "smart_open                7.3.0.post1\n",
      "sniffio                   1.3.1\n",
      "soupsieve                 2.7\n",
      "spacy                     3.8.7\n",
      "spacy-legacy              3.0.12\n",
      "spacy-loggers             1.0.5\n",
      "spacytextblob             5.0.0\n",
      "spotipy                   2.25.1\n",
      "srsly                     2.5.1\n",
      "stack-data                0.6.3\n",
      "terminado                 0.18.1\n",
      "textblob                  0.19.0\n",
      "thinc                     8.3.6\n",
      "tinycss2                  1.4.0\n",
      "tornado                   6.5.1\n",
      "tqdm                      4.67.1\n",
      "traitlets                 5.14.3\n",
      "typer                     0.16.0\n",
      "types-python-dateutil     2.9.0.20250708\n",
      "typing_extensions         4.14.1\n",
      "typing-inspection         0.4.1\n",
      "tzdata                    2025.2\n",
      "uri-template              1.3.0\n",
      "urllib3                   2.5.0\n",
      "wasabi                    1.1.3\n",
      "wcwidth                   0.2.13\n",
      "weasel                    0.4.1\n",
      "webcolors                 24.11.1\n",
      "webencodings              0.5.1\n",
      "websocket-client          1.8.0\n",
      "wheel                     0.45.1\n",
      "widgetsnbextension        4.0.14\n",
      "win32_setctime            1.2.0\n",
      "wrapt                     1.17.2\n",
      "All prereqs installed.\n"
     ]
    }
   ],
   "source": [
    "# Create and activate a Python virtual environment. \n",
    "# Before starting the project, try all these imports FIRST\n",
    "# Address any errors you get running this code cell \n",
    "# by installing the necessary packages into your active Python environment.\n",
    "# Try to resolve issues using your materials and the web.\n",
    "# If that doesn't work, ask for help in the discussion forums.\n",
    "# You can't complete the exercises until you import these - start early! \n",
    "# We also import pickle and Counter (included in the Python Standard Library).\n",
    "\n",
    "from collections import Counter\n",
    "import pickle\n",
    "import requests\n",
    "import spacy\n",
    "from bs4 import BeautifulSoup\n",
    "import matplotlib.pyplot as plt\n",
    "\n",
    "!pip list\n",
    "\n",
    "print('All prereqs installed.')"
   ]
  },
  {
   "cell_type": "markdown",
   "metadata": {},
   "source": [
    "#### 1. Find on the internet an article or blog post about a topic that interests you and you are able to get the text for using the technologies we have applied in the course.  Get the html for the article and store it in a file (which you must submit with your project)"
   ]
  },
  {
   "cell_type": "code",
   "execution_count": 107,
   "metadata": {},
   "outputs": [
    {
     "name": "stdout",
     "output_type": "stream",
     "text": [
      "Tracks saved to top_hits_2000s.pkl\n"
     ]
    }
   ],
   "source": [
    "import requests\n",
    "import pickle\n",
    "from get_spotify_token import get_token\n",
    "\n",
    "# Get access token\n",
    "ACCESS_TOKEN = get_token()\n",
    "\n",
    "# Manually insert playlist ID\n",
    "playlist_id = \"2XXbR1BBAsLiaoKLbSA3WU\"\n",
    "\n",
    "# Set headers\n",
    "headers = {\n",
    "    \"Authorization\": f\"Bearer {ACCESS_TOKEN}\"\n",
    "}\n",
    "\n",
    "# Endpoint to get tracks from the playlist\n",
    "tracks_url = f\"https://api.spotify.com/v1/playlists/{playlist_id}/tracks\"\n",
    "\n",
    "# Make request\n",
    "response = requests.get(tracks_url, headers=headers)\n",
    "\n",
    "# Save response as .pkl if successful\n",
    "if response.status_code == 200:\n",
    "    data = response.json()  # parse JSON to dict\n",
    "    with open(\"top_hits_2000s.pkl\", \"wb\") as f:\n",
    "        pickle.dump(data, f)\n",
    "    print(\"Tracks saved to top_hits_2000s.pkl\")\n",
    "else:\n",
    "    print(f\"Failed to get playlist tracks: {response.status_code}\")\n",
    "    print(response.text)"
   ]
  },
  {
   "cell_type": "markdown",
   "metadata": {},
   "source": [
    "#### 2. Read in your article's html source from the file you created in question 1 and do sentiment analysis on the article/post's text (use `.get_text()`).  Print the polarity score with an appropriate label.  Additionally print the number of sentences in the original article (with an appropriate label)"
   ]
  },
  {
   "cell_type": "code",
   "execution_count": null,
   "metadata": {},
   "outputs": [
    {
     "name": "stdout",
     "output_type": "stream",
     "text": [
      "Track List:\n",
      "\n",
      "1. \"Yeah! (feat. Lil Jon & Ludacris)\" by USHER, Lil Jon, Ludacris\n",
      "2. \"Wherever You Will Go\" by The Calling\n",
      "3. \"Where Is The Love?\" by Black Eyed Peas\n",
      "4. \"Whenever, Wherever\" by Shakira\n",
      "5. \"What a Girl Wants\" by Christina Aguilera\n",
      "6. \"Unwritten\" by Natasha Bedingfield\n",
      "7. \"Torn\" by Natalie Imbruglia\n",
      "8. \"Toxic\" by Britney Spears\n",
      "9. \"Thong Song\" by Sisqo\n",
      "10. \"This Love\" by Maroon 5\n",
      "11. \"These Words\" by Natasha Bedingfield\n",
      "12. \"The Great Escape\" by BOYS LIKE GIRLS\n",
      "13. \"Teardrops On My Guitar - Radio \n",
      "...\n",
      "\n",
      "Polarity score: 0.064\n",
      "Number of sentences: 113\n"
     ]
    }
   ],
   "source": [
    "import pickle\n",
    "from bs4 import BeautifulSoup\n",
    "from textblob import TextBlob\n",
    "\n",
    "# Load the pickle file\n",
    "with open('top_hits_2000s.pkl', 'rb') as file:\n",
    "    data = pickle.load(file)\n",
    "\n",
    "# Build a clean string with track + artist info\n",
    "summary_lines = []\n",
    "for i, item in enumerate(data.get('items', []), start=1):\n",
    "    track = item.get('track', {})\n",
    "    track_name = track.get('name', 'Unknown Track')\n",
    "    artists = \", \".join(artist.get('name', 'Unknown Artist') for artist in track.get('artists', []))\n",
    "    summary_lines.append(f'{i}. \"{track_name}\" by {artists}')\n",
    "\n",
    "# Join into a single text block for sentiment analysis\n",
    "text = \"\\n\".join(summary_lines)\n",
    "\n",
    "# Print a snippet of the cleaned text\n",
    "print(\"Track List:\\n\")\n",
    "print(text[:500] + \"\\n...\")\n",
    "\n",
    "# Perform sentiment analysis\n",
    "blob = TextBlob(text)\n",
    "polarity = blob.sentiment.polarity\n",
    "num_sentences = len(blob.sentences)\n",
    "\n",
    "# Print sentiment results\n",
    "print(f\"\\nPolarity score: {polarity:.3f}\")\n",
    "print(f\"Number of sentences: {num_sentences}\")"
   ]
  },
  {
   "cell_type": "markdown",
   "metadata": {},
   "source": [
    "#### 3. Load the article text into a trained `spaCy` pipeline, and determine the 5 most frequent tokens (converted to lower case).  Print the common tokens with an appropriate label.  Additionally, print the tokens their frequencies (with appropriate labels)"
   ]
  },
  {
   "cell_type": "code",
   "execution_count": null,
   "metadata": {},
   "outputs": [
    {
     "name": "stdout",
     "output_type": "stream",
     "text": [
      "Top 5 most frequent tokens:\n",
      "Token: 'feat' – Frequency: 8\n",
      "Token: 'love' – Frequency: 5\n",
      "Token: 'girl' – Frequency: 4\n",
      "Token: 'radio' – Frequency: 3\n",
      "Token: 'remix' – Frequency: 3\n"
     ]
    }
   ],
   "source": [
    "import spacy\n",
    "from collections import Counter\n",
    "\n",
    "# Load data from pickle\n",
    "with open(\"top_hits_2000s.pkl\", \"rb\") as f:\n",
    "    data = pickle.load(f)\n",
    "\n",
    "# Extract all song titles\n",
    "titles = [item[\"track\"][\"name\"] for item in data[\"items\"] if item[\"track\"]]\n",
    "\n",
    "# Join all titles into one string\n",
    "text = \" \".join(titles)\n",
    "\n",
    "# Load spaCy and process the text\n",
    "nlp = spacy.load(\"en_core_web_sm\")\n",
    "doc = nlp(text)\n",
    "\n",
    "# Filter and lowercase tokens\n",
    "tokens = [token.text.lower() for token in doc if token.is_alpha and not token.is_stop]\n",
    "\n",
    "# Count token frequencies\n",
    "freq = Counter(tokens)\n",
    "most_common = freq.most_common(5)\n",
    "\n",
    "# Print results\n",
    "print(\"Top 5 most frequent tokens:\")\n",
    "for word, count in most_common:\n",
    "    print(f\"Token: '{word}' – Frequency: {count}\")"
   ]
  },
  {
   "cell_type": "markdown",
   "metadata": {},
   "source": [
    "#### 4. Load the article text into a trained `spaCy` pipeline, and determine the 5 most frequent lemmas (converted to lower case).  Print the common lemmas with an appropriate label.  Additionally, print the lemmas with their frequencies (with appropriate labels)."
   ]
  },
  {
   "cell_type": "code",
   "execution_count": 110,
   "metadata": {},
   "outputs": [
    {
     "name": "stdout",
     "output_type": "stream",
     "text": [
      "Top 5 most frequent lemmas in song titles:\n",
      "• Lemma: 'feat' – Frequency: 8\n",
      "• Lemma: 'love' – Frequency: 5\n",
      "• Lemma: 'girl' – Frequency: 4\n",
      "• Lemma: 'radio' – Frequency: 3\n",
      "• Lemma: 'remix' – Frequency: 3\n"
     ]
    }
   ],
   "source": [
    "# Load song data from pickle\n",
    "with open(\"top_hits_2000s.pkl\", \"rb\") as f:\n",
    "    data = pickle.load(f)\n",
    "\n",
    "# Extract song titles\n",
    "titles = [item[\"track\"][\"name\"] for item in data[\"items\"] if item[\"track\"]]\n",
    "\n",
    "# Combine titles into one text string\n",
    "text = \" \".join(titles)\n",
    "\n",
    "# Load spaCy model\n",
    "nlp = spacy.load(\"en_core_web_sm\")\n",
    "doc = nlp(text)\n",
    "\n",
    "# Use lemmas: lowercase, alpha only, exclude stop words\n",
    "lemmas = [\n",
    "    token.lemma_.lower()\n",
    "    for token in doc\n",
    "    if token.is_alpha and not token.is_stop\n",
    "]\n",
    "\n",
    "# Count and display top 5 most frequent lemmas\n",
    "freq = Counter(lemmas)\n",
    "most_common = freq.most_common(5)\n",
    "\n",
    "print(\"Top 5 most frequent lemmas in song titles:\")\n",
    "for lemma, count in most_common:\n",
    "    print(f\"• Lemma: '{lemma}' – Frequency: {count}\")"
   ]
  },
  {
   "cell_type": "markdown",
   "metadata": {},
   "source": [
    "#### 5. Make a list containing the scores (using tokens) of every sentence in the article, and plot a histogram with appropriate titles and axis labels of the scores. From your histogram, what seems to be the most common range of scores (put the answer in a comment after your code)?"
   ]
  },
  {
   "cell_type": "code",
   "execution_count": 111,
   "metadata": {},
   "outputs": [
    {
     "data": {
      "image/png": "[encoded data removed]",
      "text/plain": [
       "<Figure size 640x480 with 1 Axes>"
      ]
     },
     "metadata": {},
     "output_type": "display_data"
    }
   ],
   "source": [
    "# Load song data from pickle\n",
    "with open(\"top_hits_2000s.pkl\", \"rb\") as f:\n",
    "    data = pickle.load(f)\n",
    "\n",
    "# Extract song titles\n",
    "titles = [item[\"track\"][\"name\"] for item in data[\"items\"] if item[\"track\"]]\n",
    "\n",
    "# Combine titles into one text string\n",
    "text = \" \".join(titles)\n",
    "\n",
    "# Load spaCy model\n",
    "nlp = spacy.load(\"en_core_web_sm\")\n",
    "\n",
    "# Process text\n",
    "doc = nlp(text)\n",
    "\n",
    "# Get sentiment polarity scores per song using TextBlob\n",
    "sentence_scores = []\n",
    "for sent in doc.sents:\n",
    "    blob = TextBlob(sent.text)\n",
    "    polarity = blob.sentiment.polarity  # between -1 (negative) and 1 (positive)\n",
    "    sentence_scores.append(polarity)\n",
    "\n",
    "# Plot histogram of sentence polarity scores\n",
    "plt.hist(sentence_scores, bins=20, color='teal', edgecolor='purple')\n",
    "plt.title('Histogram of Polarity Scores Using Tokens')\n",
    "plt.xlabel('Sentiment Polarity Score')\n",
    "plt.ylabel('Number of Song Titles')\n",
    "plt.grid(axis='y', alpha=0.75)\n",
    "plt.show()\n",
    "\n",
    "# From the histogram, the most common range of scores seems to be around 0 (neutral to slightly positive). For song titles, this would be an expected outcome."
   ]
  },
  {
   "cell_type": "markdown",
   "metadata": {},
   "source": [
    "#### 6. Make a list containing the scores (using lemmas) of every sentence in the article, and plot a histogram with appropriate titles and axis labels of the scores.  From your histogram, what seems to be the most common range of scores (put the answer in a comment after your code)?"
   ]
  },
  {
   "cell_type": "code",
   "execution_count": null,
   "metadata": {},
   "outputs": [
    {
     "data": {
      "image/png": "[encoded data removed]",
      "text/plain": [
       "<Figure size 640x480 with 1 Axes>"
      ]
     },
     "metadata": {},
     "output_type": "display_data"
    }
   ],
   "source": [
    "# Load song data from pickle\n",
    "with open(\"top_hits_2000s.pkl\", \"rb\") as f:\n",
    "    data = pickle.load(f)\n",
    "\n",
    "# Extract song titles\n",
    "titles = [item[\"track\"][\"name\"] for item in data[\"items\"] if item[\"track\"]]\n",
    "\n",
    "# Combine titles into one text string\n",
    "text = \" \".join(titles)\n",
    "\n",
    "# Load spaCy model\n",
    "nlp = spacy.load(\"en_core_web_sm\")\n",
    "\n",
    "# Process the text\n",
    "doc = nlp(text)\n",
    "\n",
    "sentence_scores = []\n",
    "\n",
    "for sent in doc.sents:\n",
    "    # Extract lemmas from sentence tokens, filtering alpha and stop words\n",
    "    lemmas = [token.lemma_.lower() for token in sent if token.is_alpha and not token.is_stop]\n",
    "    \n",
    "    # Join lemmas back into a string for sentiment analysis\n",
    "    lemma_text = \" \".join(lemmas)\n",
    "    \n",
    "    # Get polarity score of the lemma-based sentence string\n",
    "    blob = TextBlob(lemma_text)\n",
    "    polarity = blob.sentiment.polarity\n",
    "    \n",
    "    sentence_scores.append(polarity)\n",
    "\n",
    "# Plot histogram of lemma-based sentence polarity scores\n",
    "plt.hist(sentence_scores, bins=20, color='lightcoral', edgecolor='aqua')\n",
    "plt.title('Histogram of Polarity Scores Using Lemmas')\n",
    "plt.xlabel('Sentiment Polarity Score')\n",
    "plt.ylabel('Number of Song Titles')\n",
    "plt.grid(axis='y', alpha=0.75)\n",
    "plt.show()\n",
    "\n",
    "# As with question 5, the most common range of scores appears to be around 0 (neutral to slightly positive). With song titles, it is common for tokens and lemmas to be the same. "
   ]
  },
  {
   "cell_type": "markdown",
   "metadata": {},
   "source": [
    "#### 7. Using the histograms from questions 5 and 6, decide a \"cutoff\" score for tokens and lemmas such that fewer than half the sentences would have a score greater than the cutoff score.  Record the scores in this Markdown cell\n",
    "\n",
    "* Cutoff Score (tokens): 0.05\n",
    "* Cutoff Score (lemmas): 0.05\n",
    "\n",
    "Feel free to change these scores as you generate your summaries.  Ideally, we're shooting for at least 6 sentences for our summary, but don't want more than 10 (these numbers are rough estimates; they depend on the length of your article)."
   ]
  },
  {
   "cell_type": "markdown",
   "metadata": {},
   "source": [
    "#### 8. Create a summary of the article by going through every sentence in the article and adding it to an (initially) empty list if its score (based on tokens) is greater than the cutoff score you identified in question 8.  If your loop variable is named `sent`, you may find it easier to add `sent.text.strip()` to your list of sentences.  Print the summary (I would cleanly generate the summary text by `join`ing the strings in your list together with a space (`' '.join(sentence_list)`)."
   ]
  },
  {
   "cell_type": "code",
   "execution_count": 113,
   "metadata": {},
   "outputs": [
    {
     "name": "stdout",
     "output_type": "stream",
     "text": [
      "Summary of positively scored song titles:\n",
      "\n",
      "- Where Is The Love?\n",
      "- What a Girl Wants\n",
      "- This Love\n",
      "- The Great Escape\n",
      "- Smooth (feat. Rob Thomas)\n",
      "- Rich Girl\n",
      "- New Soul\n",
      "- Love Story\n",
      "- Love Song\n",
      "- Live Your Life - feat. Rihanna\n",
      "- Hot In Herre\n",
      "- Get Busy\n",
      "- Feel Good Inc.\n",
      "- Drop It Like It's Hot\n"
     ]
    }
   ],
   "source": [
    "import numpy as np\n",
    "\n",
    "# Load song data from pickle\n",
    "with open(\"top_hits_2000s.pkl\", \"rb\") as f:\n",
    "    data = pickle.load(f)\n",
    "\n",
    "# Extract song titles\n",
    "titles = [item[\"track\"][\"name\"] for item in data[\"items\"] if item[\"track\"]]\n",
    "\n",
    "# Load spaCy model\n",
    "nlp = spacy.load(\"en_core_web_sm\")\n",
    "\n",
    "# Calculate token-based sentiment polarity scores per title\n",
    "sentence_scores_tokens = []\n",
    "\n",
    "for title in titles:\n",
    "    doc = nlp(title)\n",
    "    tokens = [token.text.lower() for token in doc if token.is_alpha and not token.is_stop]\n",
    "    token_text = \" \".join(tokens)\n",
    "    polarity = TextBlob(token_text).sentiment.polarity\n",
    "    sentence_scores_tokens.append(polarity)\n",
    "\n",
    "# Calculate median cutoff score\n",
    "median_tokens = np.median(sentence_scores_tokens)\n",
    "\n",
    "# Filter titles with scores above the median\n",
    "summary_titles_tokens = [title for title, score in zip(titles, sentence_scores_tokens) if score > median_tokens]\n",
    "\n",
    "# Print summary as bullet points\n",
    "print(\"Summary of positively scored song titles:\\n\")\n",
    "print(\"\\n\".join(f\"- {title}\" for title in summary_titles_tokens))"
   ]
  },
  {
   "cell_type": "markdown",
   "metadata": {},
   "source": [
    "#### 9. Print the polarity score of your summary you generated with the token scores (with an appropriate label). Additionally, print the number of sentences in the summarized article."
   ]
  },
  {
   "cell_type": "code",
   "execution_count": 114,
   "metadata": {},
   "outputs": [
    {
     "name": "stdout",
     "output_type": "stream",
     "text": [
      "\n",
      "Summary polarity score: 0.3819805194805195\n",
      "Number of sentences in the summary: 14\n"
     ]
    }
   ],
   "source": [
    "# Join the summary titles into one string\n",
    "summary_text = ' '.join(summary_titles_tokens)\n",
    "\n",
    "# Get polarity score of the whole summary\n",
    "summary_polarity = TextBlob(summary_text).sentiment.polarity\n",
    "\n",
    "# Print results\n",
    "print(\"\\nSummary polarity score:\", summary_polarity)\n",
    "print(\"Number of sentences in the summary:\", len(summary_titles_tokens))"
   ]
  },
  {
   "cell_type": "markdown",
   "metadata": {},
   "source": [
    "#### 10. Create a summary of the article by going through every sentence in the article and adding it to an (initially) empty list if its score (based on lemmas) is greater than the cutoff score you identified in question 8.  If your loop variable is named `sent`, you may find it easier to add `sent.text.strip()` to your list of sentences.  Print the summary (I would cleanly generate the summary text by `join`ing the strings in your list together with a space (`' '.join(sentence_list)`)."
   ]
  },
  {
   "cell_type": "code",
   "execution_count": 115,
   "metadata": {},
   "outputs": [
    {
     "name": "stdout",
     "output_type": "stream",
     "text": [
      "Summary of positively scored song titles (based on lemmas):\n",
      "\n",
      "- Where Is The Love?\n",
      "- This Love\n",
      "- The Great Escape\n",
      "- Stronger\n",
      "- Smooth (feat. Rob Thomas)\n",
      "- Rich Girl\n",
      "- New Soul\n",
      "- Love Story\n",
      "- Love Song\n",
      "- Live Your Life - feat. Rihanna\n",
      "- Hot In Herre\n",
      "- Get Busy\n",
      "- Feel Good Inc.\n",
      "- Drop It Like It's Hot\n"
     ]
    }
   ],
   "source": [
    "# Load song data from pickle\n",
    "with open(\"top_hits_2000s.pkl\", \"rb\") as f:\n",
    "    data = pickle.load(f)\n",
    "\n",
    "# Extract song titles\n",
    "titles = [item[\"track\"][\"name\"] for item in data[\"items\"] if item[\"track\"]]\n",
    "\n",
    "# Load spaCy model\n",
    "nlp = spacy.load(\"en_core_web_sm\")\n",
    "\n",
    "# Calculate lemma-based sentiment polarity scores per title\n",
    "sentence_scores_lemmas = []\n",
    "\n",
    "for title in titles:\n",
    "    doc = nlp(title)\n",
    "    lemmas = [token.lemma_.lower() for token in doc if token.is_alpha and not token.is_stop]\n",
    "    lemma_text = \" \".join(lemmas)\n",
    "    polarity = TextBlob(lemma_text).sentiment.polarity\n",
    "    sentence_scores_lemmas.append(polarity)\n",
    "\n",
    "# Calculate median cutoff score (lemma-based)\n",
    "median_lemmas = np.median(sentence_scores_lemmas)\n",
    "\n",
    "# Create summary using lemmas > median\n",
    "summary_titles_lemmas = [title.strip() for title, score in zip(titles, sentence_scores_lemmas) if score > median_lemmas]\n",
    "\n",
    "# Print summary as bullet points\n",
    "print(\"Summary of positively scored song titles (based on lemmas):\\n\")\n",
    "print(\"\\n\".join(f\"- {title}\" for title in summary_titles_lemmas))"
   ]
  },
  {
   "cell_type": "markdown",
   "metadata": {},
   "source": [
    "#### 11. Print the polarity score of your summary you generated with the lemma scores (with an appropriate label). Additionally, print the number of sentences in the summarized article."
   ]
  },
  {
   "cell_type": "code",
   "execution_count": 116,
   "metadata": {},
   "outputs": [
    {
     "name": "stdout",
     "output_type": "stream",
     "text": [
      "\n",
      "Summary polarity score (based on lemmas): 0.39597902097902093\n",
      "Number of sentences in the summary: 14\n"
     ]
    }
   ],
   "source": [
    "# Print polarity score of summary and number of sentences\n",
    "summary_text_lemmas = ' '.join(summary_titles_lemmas)\n",
    "summary_polarity_lemmas = TextBlob(summary_text_lemmas).sentiment.polarity\n",
    "\n",
    "print(\"\\nSummary polarity score (based on lemmas):\", summary_polarity_lemmas)\n",
    "print(\"Number of sentences in the summary:\", len(summary_titles_lemmas))"
   ]
  },
  {
   "cell_type": "markdown",
   "metadata": {},
   "source": [
    "#### 12.  Compare your polarity scores of your summaries to the polarity scores of the initial article.  Is there a difference?  Why do you think that may or may not be?.  Answer in this Markdown cell.\n",
    "\n",
    "**Answer**: The polarity scores of the summaries are very close. This is likely because the content consists of song titles rather than full sentences, which limits the amount of sentiment variation. Song titles tend to be short, often emotionally neutral or ambiguous, and lack the context or structure found in longer texts. As a result, both the token-based and lemma-based summaries (with scores of 0.381 and 0.395) closely match the original text's overall sentiment."
   ]
  },
  {
   "cell_type": "markdown",
   "metadata": {},
   "source": [
    "#### 13. Based on your reading of the original article, which summary do you think is better (if there's a difference).  Why do you think this might be?\n",
    "\n",
    "**Answer**: There wasn't a major difference between the two summaries, likely because the content consists of song titles rather than full sentences. Song titles are typically short and lack the nuance and variation found in longer texts. However, the lemma-based summary had a slightly higher overall polarity score, which may suggest that lemmatization helped reduce some minor noise caused by word forms. So if I had to choose, I would say the lemma-based summary is marginally better."
   ]
  }
 ],
 "metadata": {
  "kernelspec": {
   "display_name": ".venv",
   "language": "python",
   "name": "python3"
  },
  "language_info": {
   "codemirror_mode": {
    "name": "ipython",
    "version": 3
   },
   "file_extension": ".py",
   "mimetype": "text/x-python",
   "name": "python",
   "nbconvert_exporter": "python",
   "pygments_lexer": "ipython3",
   "version": "3.12.0"
  }
 },
 "nbformat": 4,
 "nbformat_minor": 4
}
